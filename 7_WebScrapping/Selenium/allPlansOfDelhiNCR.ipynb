{
 "cells": [
  {
   "cell_type": "code",
   "execution_count": 3,
   "metadata": {},
   "outputs": [],
   "source": [
    "from selenium import webdriver"
   ]
  },
  {
   "cell_type": "code",
   "execution_count": 64,
   "metadata": {},
   "outputs": [],
   "source": [
    "path = '/usr/local/bin/chromedriver'\n",
    "driver = webdriver.Chrome(executable_path = path)"
   ]
  },
  {
   "cell_type": "code",
   "execution_count": 65,
   "metadata": {},
   "outputs": [],
   "source": [
    "driver.get('https://paytm.com/recharge')"
   ]
  },
  {
   "cell_type": "code",
   "execution_count": 66,
   "metadata": {},
   "outputs": [],
   "source": [
    "outer_div = driver.find_element_by_xpath('//div[@class=\"_1O3W\"]/ul/li')\n",
    "outer_div.click()"
   ]
  },
  {
   "cell_type": "code",
   "execution_count": 67,
   "metadata": {},
   "outputs": [],
   "source": [
    "outer_div_state = driver.find_element_by_xpath('//div[@class=\"_1aCx\"]/a[5]')\n",
    "# outer_div_state.get_attribute('innerHTML')\n",
    "outer_div_state.click()"
   ]
  },
  {
   "cell_type": "code",
   "execution_count": 15,
   "metadata": {},
   "outputs": [
    {
     "name": "stdout",
     "output_type": "stream",
     "text": [
      "Collecting bs4\n",
      "  Using cached bs4-0.0.1.tar.gz (1.1 kB)\n",
      "Collecting beautifulsoup4\n",
      "  Using cached beautifulsoup4-4.9.1-py3-none-any.whl (115 kB)\n",
      "Collecting soupsieve>1.2\n",
      "  Using cached soupsieve-2.0.1-py3-none-any.whl (32 kB)\n",
      "Building wheels for collected packages: bs4\n",
      "  Building wheel for bs4 (setup.py) ... \u001b[?25ldone\n",
      "\u001b[?25h  Created wheel for bs4: filename=bs4-0.0.1-py3-none-any.whl size=1272 sha256=54b94d1aeaa1d05ab96aef8eb8f8800653cf15878947c3ee7de35ca59fe6d27d\n",
      "  Stored in directory: /Users/arnab/Library/Caches/pip/wheels/75/78/21/68b124549c9bdc94f822c02fb9aa3578a669843f9767776bca\n",
      "Successfully built bs4\n",
      "Installing collected packages: soupsieve, beautifulsoup4, bs4\n",
      "Successfully installed beautifulsoup4-4.9.1 bs4-0.0.1 soupsieve-2.0.1\n",
      "Note: you may need to restart the kernel to use updated packages.\n"
     ]
    }
   ],
   "source": [
    "pip install bs4"
   ]
  },
  {
   "cell_type": "code",
   "execution_count": 17,
   "metadata": {},
   "outputs": [],
   "source": [
    "from bs4 import BeautifulSoup"
   ]
  },
  {
   "cell_type": "code",
   "execution_count": 21,
   "metadata": {},
   "outputs": [
    {
     "data": {
      "text/plain": [
       "'<div class=\"_8nlz\"><div class=\"_1aEZ\"><div class=\"zUDk\">Delhi NCR</div><div class=\"zUDk\">Recharge</div><div class=\"zUDk\">NA</div><div class=\"zUDk\">NA</div><div class=\"zUDk _3WAG\">Enjoy 12GB extra data, valid till your current pack validity. Pack applicable for users on Unlimited Packs and Smart Recharges.</div><div class=\"zUDk _17KN\"><button class=\"_11kC  LLvJ _3vjB\">Rs. 98</button></div></div><div class=\"_1aEZ\"><div class=\"zUDk\">Delhi NCR</div><div class=\"zUDk\">Recharge</div><div class=\"zUDk\">NA</div><div class=\"zUDk\">24 Days</div><div class=\"zUDk _3WAG\">3G/4G Data: 1 GB. Local, STD &amp; Roaming Calls: Unlimited. SMS: 300 SMS</div><div class=\"zUDk _17KN\"><button class=\"_11kC  LLvJ _3vjB\">Rs. 129</button></div></div><div class=\"_1aEZ\"><div class=\"zUDk\">Delhi NCR</div><div class=\"zUDk\">Recharge</div><div class=\"zUDk\">NA</div><div class=\"zUDk\">28 Days</div><div class=\"zUDk _3WAG\">Enjoy TRULY unlimited Local, STD &amp; Roaming calls on any network, 2 GB data, 300 National SMS for 28 days</div><div class=\"zUDk _17KN\"><button class=\"_11kC  LLvJ _3vjB\">Rs. 149</button></div></div><div class=\"_1aEZ\"><div class=\"zUDk\">Delhi NCR</div><div class=\"zUDk\">Recharge</div><div class=\"zUDk\">NA</div><div class=\"zUDk\">28 Days</div><div class=\"zUDk _3WAG\">Get 2 Lakh Bharti Axa Life Insurance - No medical tests, No paperwork. Also enjoy TRULY unlimited calls on any network, 2 GB data, 300 SMS for 28 days</div><div class=\"zUDk _17KN\"><button class=\"_11kC  LLvJ _3vjB\">Rs. 179</button></div></div><div class=\"_1aEZ\"><div class=\"zUDk\">Delhi NCR</div><div class=\"zUDk\">Recharge</div><div class=\"zUDk\">NA</div><div class=\"zUDk\">24 Days</div><div class=\"zUDk _3WAG\">3G/4G Data: 1 GB / Day. Local, STD &amp; Roaming Calls: Unlimited. SMS: 100 SMS / Day</div><div class=\"zUDk _17KN\"><button class=\"_11kC  LLvJ _3vjB\">Rs. 199</button></div></div><div class=\"_1aEZ\"><div class=\"zUDk\">Delhi NCR</div><div class=\"zUDk\">Recharge</div><div class=\"zUDk\">NA</div><div class=\"zUDk\">28 Days</div><div class=\"zUDk _3WAG\">Enjoy TRULY unlimited Local, STD &amp; Roaming calls on any network, 1 GB data per day, 100 National SMS/day for 28 days</div><div class=\"zUDk _17KN\"><button class=\"_11kC  LLvJ _3vjB\">Rs. 219</button></div></div><div class=\"_1aEZ\"><div class=\"zUDk\">Delhi NCR</div><div class=\"zUDk\">Recharge</div><div class=\"zUDk\">NA</div><div class=\"zUDk\">28 Days</div><div class=\"zUDk _3WAG\">Enjoy TRULY unlimited Local, STD &amp; Roaming calls on any network, 1.5 GB data per day, 100 National SMS/day for 28 days.</div><div class=\"zUDk _17KN\"><button class=\"_11kC  LLvJ _3vjB\">Rs. 249</button></div></div><div class=\"_1aEZ\"><div class=\"zUDk\">Delhi NCR</div><div class=\"zUDk\">Recharge</div><div class=\"zUDk\">NA</div><div class=\"zUDk\">NA</div><div class=\"zUDk _3WAG\">Enjoy 50GB extra data, valid till your current pack validity. Pack applicable for users on Unlimited Packs and Smart Recharges.</div><div class=\"zUDk _17KN\"><button class=\"_11kC  LLvJ _3vjB\">Rs. 251</button></div></div><div class=\"_1aEZ\"><div class=\"zUDk\">Delhi NCR</div><div class=\"zUDk\">Recharge</div><div class=\"zUDk\">NA</div><div class=\"zUDk\">28 Days</div><div class=\"zUDk _3WAG\">Enjoy Truly unlimited calls on any network, 1.5 GB data per day, 100 National SMS/day along with HDFC Life Insurance worth 4 Lakhs for 28 days.</div><div class=\"zUDk _17KN\"><button class=\"_11kC  LLvJ _3vjB\">Rs. 279</button></div></div><div class=\"_1aEZ\"><div class=\"zUDk\">Delhi NCR</div><div class=\"zUDk\">Recharge</div><div class=\"zUDk\">NA</div><div class=\"zUDk\">28 Days</div><div class=\"zUDk _3WAG\">Enjoy TRULY unlimited Local, STD &amp; Roaming calls on any network, 2 GB data per day, 100 National SMS/day for 28 days</div><div class=\"zUDk _17KN\"><button class=\"_11kC  LLvJ _3vjB\">Rs. 298</button></div></div><div class=\"_1aEZ\"><div class=\"zUDk\">Delhi NCR</div><div class=\"zUDk\">Recharge</div><div class=\"zUDk\">NA</div><div class=\"zUDk\">28 Days</div><div class=\"zUDk _3WAG\">Enjoy Amazon Prime membership with Deals, Priority delivery, Prime Video &amp; Music. You also get 2 GB data/day, unlimited calls &amp; 100 SMS/day</div><div class=\"zUDk _17KN\"><button class=\"_11kC  LLvJ _3vjB\">Rs. 349</button></div></div><div class=\"_1aEZ\"><div class=\"zUDk\">Delhi NCR</div><div class=\"zUDk\">Recharge</div><div class=\"zUDk\">NA</div><div class=\"zUDk\">28 Days</div><div class=\"zUDk _3WAG\">Enjoy TRULY unlimited Local, STD &amp; Roaming calls on any network, 3 GB data per day, 100 National SMS/day for 28 days</div><div class=\"zUDk _17KN\"><button class=\"_11kC  LLvJ _3vjB\">Rs. 398</button></div></div><div class=\"_1aEZ\"><div class=\"zUDk\">Delhi NCR</div><div class=\"zUDk\">Recharge</div><div class=\"zUDk\">NA</div><div class=\"zUDk\">56 Days</div><div class=\"zUDk _3WAG\">Enjoy TRULY unlimited Local, STD &amp; Roaming calls on any network, 1.5 GB data per day, 100 National SMS/day for 56 days</div><div class=\"zUDk _17KN\"><button class=\"_11kC  LLvJ _3vjB\">Rs. 399</button></div></div><div class=\"_1aEZ\"><div class=\"zUDk\">Delhi NCR</div><div class=\"zUDk\">Recharge</div><div class=\"zUDk\">NA</div><div class=\"zUDk\">28 Days</div><div class=\"zUDk _3WAG\">Enjoy Disney+ Hotstar VIP 1 year subscription. Also get 3GB data for 28 days.</div><div class=\"zUDk _17KN\"><button class=\"_11kC  LLvJ _3vjB\">Rs. 401</button></div></div><div class=\"_1aEZ\"><div class=\"zUDk\">Delhi NCR</div><div class=\"zUDk\">Recharge</div><div class=\"zUDk\">NA</div><div class=\"zUDk\">56 Days</div><div class=\"zUDk _3WAG\">Enjoy TRULY unlimited Local, STD &amp; Roaming calls on any network, daily 2GB data and 100 SMS. Pack valid for 56 days</div><div class=\"zUDk _17KN\"><button class=\"_11kC  LLvJ _3vjB\">Rs. 449</button></div></div><div class=\"_1aEZ\"><div class=\"zUDk\">Delhi NCR</div><div class=\"zUDk\">Recharge</div><div class=\"zUDk\">NA</div><div class=\"zUDk\">56 Days</div><div class=\"zUDk _3WAG\">Enjoy TRULY unlimited Local, STD &amp; Roaming calls on any network, daily 3GB data and 100 SMS.</div><div class=\"zUDk _17KN\"><button class=\"_11kC  LLvJ _3vjB\">Rs. 558</button></div></div><div class=\"_1aEZ\"><div class=\"zUDk\">Delhi NCR</div><div class=\"zUDk\">Recharge</div><div class=\"zUDk\">NA</div><div class=\"zUDk\">84 Days</div><div class=\"zUDk _3WAG\">Enjoy TRULY unlimited Local, STD &amp; Roaming calls on any network, 1.5 GB data per day, 100 National SMS/day for 84 days</div><div class=\"zUDk _17KN\"><button class=\"_11kC  LLvJ _3vjB\">Rs. 598</button></div></div><div class=\"_1aEZ\"><div class=\"zUDk\">Delhi NCR</div><div class=\"zUDk\">Recharge</div><div class=\"zUDk\">NA</div><div class=\"zUDk\">84 Days</div><div class=\"zUDk _3WAG\">Enjoy TRULY unlimited Local, STD &amp; Roaming calls on any network, 2 GB data per day, 100 National SMS/day for 84 days</div><div class=\"zUDk _17KN\"><button class=\"_11kC  LLvJ _3vjB\">Rs. 698</button></div></div></div>'"
      ]
     },
     "execution_count": 21,
     "metadata": {},
     "output_type": "execute_result"
    }
   ],
   "source": [
    "popular_data = driver.find_element_by_class_name('_8nlz')\n",
    "popular_data.get_attribute('outerHTML')"
   ]
  },
  {
   "cell_type": "code",
   "execution_count": 53,
   "metadata": {},
   "outputs": [
    {
     "data": {
      "text/plain": [
       "[['Delhi NCR',\n",
       "  'Recharge',\n",
       "  'NA',\n",
       "  '28 Days',\n",
       "  'Details: Enjoy ISD calling at discounted rates for 28 days. For country wise tariff visit www.airtel.in',\n",
       "  18],\n",
       " ['Delhi NCR',\n",
       "  'Recharge',\n",
       "  'NA',\n",
       "  '1 Day',\n",
       "  'International Roaming Incoming: Unlimited. Intl Local / Calls to India: 100 minutes. Roaming International SMS: 100 SMS. International Roaming Data: 500 MB. Covered Countries : Australia, Bangladesh,Bhutan, Malaysia, Singapore, Sri Lanka, Thailand.',\n",
       "  496],\n",
       " ['Delhi NCR',\n",
       "  'Recharge',\n",
       "  'NA',\n",
       "  '1 Day',\n",
       "  'International Roaming Incoming: 100 minutes. Intl Local / Calls to India: 100 minutes. Roaming International SMS: 100 SMS. International Roaming Data: 500 MB. Covered Countries : Saudi Arabia, UAE, Brazil, Iran, Iraq, Japan, Jordan, Nepal, Palestine, Qatar, Russia,Armenia.',\n",
       "  648],\n",
       " ['Delhi NCR',\n",
       "  'Recharge',\n",
       "  'NA',\n",
       "  '1 Day',\n",
       "  'International Roaming Incoming: Unlimited. Intl Local / Calls to India: 100 minutes. Roaming International SMS: 100 SMS. International Roaming Data: 500 MB. Covered Countries : USA, UK, Canada, France, Germany, Netherlands, China, Indonesia, Hong Kong, Bahrain, Turkey, Kuwait & more countries. Visit www.airtel.in/ir',\n",
       "  649],\n",
       " ['Delhi NCR',\n",
       "  'Recharge',\n",
       "  'NA',\n",
       "  '5 Days',\n",
       "  'International Roaming Pack : 1GB data, valid for 5 days.Covered Countries: UAE, Saudi Arabia, Malaysia, USA, Sri Lanka, Singapore, Qatar, UK, Kuwait, Nepal, Bangladesh & more. Visit www.airtel.in/IR.',\n",
       "  755],\n",
       " ['Delhi NCR',\n",
       "  'Recharge',\n",
       "  'NA',\n",
       "  '30 Days',\n",
       "  'International Roaming Pack: 100mins of incoming, Local/India calls, valid for 30 days.Covered Countries :UAE, Turkey, Egypt, Malaysia, USA, Sri Lanka, Singapore, Qatar, UK, Kuwait, Nepal, Bangladesh & more. Visit www.airtel.in/IR',\n",
       "  799],\n",
       " ['Delhi NCR',\n",
       "  'Recharge',\n",
       "  'NA',\n",
       "  '1 Day',\n",
       "  'International Roaming Incoming: 100 minutes. Intl Local / Calls to India: 100 minutes. Roaming International SMS: 100 SMS. International Roaming Data: 500 MB. Covered Countries : Oman, Nigeria, South Africa, Afghanistan, Kazakhstan, Kenya, Uganda, Zambia & more countries. Visit www.airtel.in/ir',\n",
       "  997],\n",
       " ['Delhi NCR',\n",
       "  'Recharge',\n",
       "  'NA',\n",
       "  '30 Days',\n",
       "  'International Roaming Pack : 100mins of incoming, Local/India calls, valid for 30 days.Covered Countries :UAE, Turkey, Egypt, Malaysia, USA, Sri Lanka, Singapore, Qatar, UK, Kuwait, Nepal, Bangladesh & more. Visit www.airtel.in/IR.',\n",
       "  1199],\n",
       " ['Delhi NCR',\n",
       "  'Recharge',\n",
       "  'NA',\n",
       "  '10 Days',\n",
       "  'International Roaming Incoming: Unlimited. Intl Local / Calls to India: 250 minutes. Roaming International SMS: 100 SMS. International Roaming Data: 3 GB. Covered Countries : Australia, Bangladesh, Bhutan, Malaysia, Singapore, Sri Lanka, Thailand.',\n",
       "  1499],\n",
       " ['Delhi NCR',\n",
       "  'Recharge',\n",
       "  'NA',\n",
       "  '30 Days',\n",
       "  'International Roaming Incoming: Unlimited. Intl Local / Calls to India: 500 minutes. Roaming International SMS: 100 SMS. International Roaming Data: 5 GB. Covered Countries : Australia, Bangladesh, Bhutan, Malaysia, Singapore, Sri Lanka, Thailand.',\n",
       "  2499],\n",
       " ['Delhi NCR',\n",
       "  'Recharge',\n",
       "  'NA',\n",
       "  '10 Days',\n",
       "  'International Roaming Incoming: 250 minutes. Intl Local / Calls to India: 250 minutes. Roaming International SMS: 100 SMS. International Roaming Data: 3 GB. Covered Countries : Saudi Arabia, UAE, Brazil, Iran, Iraq, Japan, Jordan, Nepal, Palestine, Qatar, Russia, Armenia.',\n",
       "  3598],\n",
       " ['Delhi NCR',\n",
       "  'Recharge',\n",
       "  'NA',\n",
       "  '10 Days',\n",
       "  'International Roaming Incoming: Unlimited. Intl Local / Calls to India: 250 minutes. Roaming International SMS: 100 SMS. International Roaming Data: 3 GB. Covered Countries : USA, UK, Canada, France, Germany, Netherlands, China, Indonesia, Hong Kong, Bahrain, Turkey, Kuwait & more countries. Visit www.airtel.in/ir',\n",
       "  3599],\n",
       " ['Delhi NCR',\n",
       "  'Recharge',\n",
       "  'NA',\n",
       "  '10 Days',\n",
       "  'International Roaming Incoming: 250 minutes. Intl Local / Calls to India: 250 minutes. Roaming International SMS: 100 SMS. International Roaming Data: 3 GB. Covered Countries : Oman, Nigeria, South Africa, Afghanistan, Kazakhstan, Kenya, Uganda, Zambia & more countries. Visit www.airtel.in/ir',\n",
       "  3995],\n",
       " ['Delhi NCR',\n",
       "  'Recharge',\n",
       "  'NA',\n",
       "  '30 Days',\n",
       "  'International Roaming Incoming: Unlimited. Intl Local / Calls to India: 500 minutes. Roaming International SMS: 100 SMS. International Roaming Data: 5 GB. Covered Countries : USA, UK, Canada, France, Germany, Netherlands, China, Indonesia, Hong Kong, Bahrain, Turkey, Kuwait & more countries. Visit www.airtel.in/ir',\n",
       "  3997],\n",
       " ['Delhi NCR',\n",
       "  'Recharge',\n",
       "  'NA',\n",
       "  '30 Days',\n",
       "  'International Roaming Incoming: 500 minutes. Intl Local / Calls to India: 500 minutes. Roaming International SMS: 100 SMS. International Roaming Data: 5 GB. Covered Countries : Saudi Arabia, UAE, Brazil, Iran, Iraq, Japan, Jordan, Nepal, Palestine, Qatar, Russia,Armenia.',\n",
       "  3998],\n",
       " ['Delhi NCR',\n",
       "  'Recharge',\n",
       "  'NA',\n",
       "  '10 Days',\n",
       "  'International Roaming Incoming: Unlimited. Intl Local / Calls to India: 500 minutes. Roaming International SMS: 100 SMS. International Roaming Data: 1 GB / Day. Covered Countries :UAE, Turkey, Egypt, Malaysia, USA, Sri Lanka, Singapore, Qatar, UK, Kuwait & more countries. Visit www.airtel.in/ir',\n",
       "  4999],\n",
       " ['Delhi NCR',\n",
       "  'Recharge',\n",
       "  'NA',\n",
       "  '30 Days',\n",
       "  'International Roaming Incoming: 500 minutes. Intl Local / Calls to India: 500 minutes. Roaming International SMS: 100 SMS. International Roaming Data: 5 GB. Covered Countries : Oman, Nigeria, South Africa, Afghanistan, Kazakhstan, Kenya, Uganda, Zambia & more countries. Visit www.airtel.in/ir',\n",
       "  6999]]"
      ]
     },
     "execution_count": 53,
     "metadata": {},
     "output_type": "execute_result"
    }
   ],
   "source": [
    "import re\n",
    "dataframe = []\n",
    "data = BeautifulSoup(driver.page_source, 'html.parser')\n",
    "plans = data.find_all(class_=\"_1aEZ\")\n",
    "for i in plans:\n",
    "    y = []\n",
    "    x = i.contents\n",
    "    for j in range(len(x)):\n",
    "        if j == len(x) - 1:\n",
    "            price = x[j].string.strip()\n",
    "            price = int(re.search('\\d+', price).group())\n",
    "            y.append(price)\n",
    "        else:\n",
    "            y.append(x[j].string.strip())\n",
    "    dataframe.append(y)\n",
    "dataframe"
   ]
  },
  {
   "cell_type": "code",
   "execution_count": 56,
   "metadata": {},
   "outputs": [
    {
     "name": "stdout",
     "output_type": "stream",
     "text": [
      "Collecting pandas\n",
      "  Downloading pandas-1.1.0-cp38-cp38-macosx_10_9_x86_64.whl (10.6 MB)\n",
      "\u001b[K     |████████████████████████████████| 10.6 MB 7.7 MB/s eta 0:00:01\n",
      "\u001b[?25hRequirement already satisfied: python-dateutil>=2.7.3 in /usr/local/Cellar/jupyterlab/2.2.4/libexec/lib/python3.8/site-packages (from pandas) (2.8.1)\n",
      "Collecting numpy>=1.15.4\n",
      "  Downloading numpy-1.19.1-cp38-cp38-macosx_10_9_x86_64.whl (15.3 MB)\n",
      "\u001b[K     |████████████████████████████████| 15.3 MB 3.6 MB/s eta 0:00:01\n",
      "\u001b[?25hCollecting pytz>=2017.2\n",
      "  Using cached pytz-2020.1-py2.py3-none-any.whl (510 kB)\n",
      "Requirement already satisfied: six>=1.5 in /usr/local/Cellar/jupyterlab/2.2.4/libexec/lib/python3.8/site-packages (from python-dateutil>=2.7.3->pandas) (1.15.0)\n",
      "Installing collected packages: numpy, pytz, pandas\n",
      "Successfully installed numpy-1.19.1 pandas-1.1.0 pytz-2020.1\n",
      "Note: you may need to restart the kernel to use updated packages.\n"
     ]
    }
   ],
   "source": [
    "pip install pandas"
   ]
  },
  {
   "cell_type": "code",
   "execution_count": 57,
   "metadata": {},
   "outputs": [
    {
     "name": "stdout",
     "output_type": "stream",
     "text": [
      "Requirement already satisfied: numpy in /usr/local/Cellar/jupyterlab/2.2.4/libexec/lib/python3.8/site-packages (1.19.1)\n",
      "Note: you may need to restart the kernel to use updated packages.\n"
     ]
    }
   ],
   "source": [
    "pip install numpy"
   ]
  },
  {
   "cell_type": "code",
   "execution_count": 59,
   "metadata": {},
   "outputs": [],
   "source": [
    "import pandas as pd"
   ]
  },
  {
   "cell_type": "code",
   "execution_count": 60,
   "metadata": {},
   "outputs": [],
   "source": [
    "import numpy as np"
   ]
  },
  {
   "cell_type": "code",
   "execution_count": 68,
   "metadata": {},
   "outputs": [],
   "source": [
    "import re\n",
    "dataframe = []\n",
    "plans_category = driver.find_elements_by_xpath('//div[@class=\"_3H1N\"]/*')\n",
    "plans_category\n",
    "for i in plans_category:\n",
    "    i.click()\n",
    "    data = driver.find_element_by_class_name('_8nlz')\n",
    "    plans = BeautifulSoup(data.get_attribute('innerHTML'), 'html.parser')\n",
    "    for i in plans:\n",
    "        y = []\n",
    "        x = i.contents\n",
    "        for j in range(len(x)):\n",
    "            if j == len(x) - 1:\n",
    "                price = x[j].string.strip()\n",
    "                price = int(re.search('\\d+', price).group())\n",
    "                y.append(price)\n",
    "            else:\n",
    "                y.append(x[j].string.strip())\n",
    "        dataframe.append(y)\n",
    "df = pd.DataFrame(dataframe, columns=['Circle', 'Plan Type', 'Talktime', 'validity', 'Description', 'Price'])\n",
    "df.to_csv('delhiPlans.csv')"
   ]
  },
  {
   "cell_type": "code",
   "execution_count": 69,
   "metadata": {},
   "outputs": [],
   "source": [
    "driver.close()"
   ]
  },
  {
   "cell_type": "code",
   "execution_count": 70,
   "metadata": {},
   "outputs": [],
   "source": [
    "file = pd.read_csv('delhiPlans.csv')"
   ]
  },
  {
   "cell_type": "code",
   "execution_count": 74,
   "metadata": {},
   "outputs": [],
   "source": [
    "df = file.copy()"
   ]
  },
  {
   "cell_type": "code",
   "execution_count": 76,
   "metadata": {},
   "outputs": [
    {
     "data": {
      "text/plain": [
       "Unnamed: 0       int64\n",
       "Circle          object\n",
       "Plan Type       object\n",
       "Talktime       float64\n",
       "validity        object\n",
       "Description     object\n",
       "Price            int64\n",
       "dtype: object"
      ]
     },
     "execution_count": 76,
     "metadata": {},
     "output_type": "execute_result"
    }
   ],
   "source": [
    "df.dtypes"
   ]
  }
 ],
 "metadata": {
  "kernelspec": {
   "display_name": "Python 3",
   "language": "python",
   "name": "python3"
  },
  "language_info": {
   "codemirror_mode": {
    "name": "ipython",
    "version": 3
   },
   "file_extension": ".py",
   "mimetype": "text/x-python",
   "name": "python",
   "nbconvert_exporter": "python",
   "pygments_lexer": "ipython3",
   "version": "3.8.5"
  }
 },
 "nbformat": 4,
 "nbformat_minor": 4
}
