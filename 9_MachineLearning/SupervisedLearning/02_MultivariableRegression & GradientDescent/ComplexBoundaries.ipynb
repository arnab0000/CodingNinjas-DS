{
 "cells": [
  {
   "cell_type": "code",
   "execution_count": 1,
   "metadata": {},
   "outputs": [],
   "source": [
    "from sklearn import datasets"
   ]
  },
  {
   "cell_type": "code",
   "execution_count": 2,
   "metadata": {},
   "outputs": [],
   "source": [
    "import pandas as pd"
   ]
  },
  {
   "cell_type": "code",
   "execution_count": 3,
   "metadata": {},
   "outputs": [],
   "source": [
    "boston = datasets.load_boston()"
   ]
  },
  {
   "cell_type": "code",
   "execution_count": 5,
   "metadata": {},
   "outputs": [],
   "source": [
    "x = boston.data\n",
    "y = boston.target"
   ]
  },
  {
   "cell_type": "code",
   "execution_count": 6,
   "metadata": {},
   "outputs": [
    {
     "data": {
      "text/plain": [
       "((506, 13), (506,))"
      ]
     },
     "execution_count": 6,
     "metadata": {},
     "output_type": "execute_result"
    }
   ],
   "source": [
    "x.shape, y.shape"
   ]
  },
  {
   "cell_type": "markdown",
   "metadata": {},
   "source": [
    "# Adding all the 2nd degree polynomial features."
   ]
  },
  {
   "cell_type": "code",
   "execution_count": 29,
   "metadata": {},
   "outputs": [
    {
     "data": {
      "text/html": [
       "<div>\n",
       "<style scoped>\n",
       "    .dataframe tbody tr th:only-of-type {\n",
       "        vertical-align: middle;\n",
       "    }\n",
       "\n",
       "    .dataframe tbody tr th {\n",
       "        vertical-align: top;\n",
       "    }\n",
       "\n",
       "    .dataframe thead th {\n",
       "        text-align: right;\n",
       "    }\n",
       "</style>\n",
       "<table border=\"1\" class=\"dataframe\">\n",
       "  <thead>\n",
       "    <tr style=\"text-align: right;\">\n",
       "      <th></th>\n",
       "      <th>CRIM</th>\n",
       "      <th>ZN</th>\n",
       "      <th>INDUS</th>\n",
       "      <th>CHAS</th>\n",
       "      <th>NOX</th>\n",
       "      <th>RM</th>\n",
       "      <th>AGE</th>\n",
       "      <th>DIS</th>\n",
       "      <th>RAD</th>\n",
       "      <th>TAX</th>\n",
       "      <th>...</th>\n",
       "      <th>INDUS_INDUS</th>\n",
       "      <th>NOX_NOX</th>\n",
       "      <th>RM_RM</th>\n",
       "      <th>DIS_DIS</th>\n",
       "      <th>RAD_RAD</th>\n",
       "      <th>TAX_TAX</th>\n",
       "      <th>PTRATIO_PTRATIO</th>\n",
       "      <th>B_B</th>\n",
       "      <th>LSTAT_LSTAT</th>\n",
       "      <th>CHAS_CHAS</th>\n",
       "    </tr>\n",
       "  </thead>\n",
       "  <tbody>\n",
       "    <tr>\n",
       "      <th>0</th>\n",
       "      <td>0.000040</td>\n",
       "      <td>18.0</td>\n",
       "      <td>2.31</td>\n",
       "      <td>0.0</td>\n",
       "      <td>0.538</td>\n",
       "      <td>6.575</td>\n",
       "      <td>65.2</td>\n",
       "      <td>4.0900</td>\n",
       "      <td>1.0</td>\n",
       "      <td>296.0</td>\n",
       "      <td>...</td>\n",
       "      <td>5.3361</td>\n",
       "      <td>0.289444</td>\n",
       "      <td>43.230625</td>\n",
       "      <td>16.728100</td>\n",
       "      <td>1.0</td>\n",
       "      <td>87616.0</td>\n",
       "      <td>234.09</td>\n",
       "      <td>157529.6100</td>\n",
       "      <td>24.8004</td>\n",
       "      <td>0.0</td>\n",
       "    </tr>\n",
       "    <tr>\n",
       "      <th>1</th>\n",
       "      <td>0.000746</td>\n",
       "      <td>0.0</td>\n",
       "      <td>7.07</td>\n",
       "      <td>0.0</td>\n",
       "      <td>0.469</td>\n",
       "      <td>6.421</td>\n",
       "      <td>78.9</td>\n",
       "      <td>4.9671</td>\n",
       "      <td>2.0</td>\n",
       "      <td>242.0</td>\n",
       "      <td>...</td>\n",
       "      <td>49.9849</td>\n",
       "      <td>0.219961</td>\n",
       "      <td>41.229241</td>\n",
       "      <td>24.672082</td>\n",
       "      <td>4.0</td>\n",
       "      <td>58564.0</td>\n",
       "      <td>316.84</td>\n",
       "      <td>157529.6100</td>\n",
       "      <td>83.5396</td>\n",
       "      <td>0.0</td>\n",
       "    </tr>\n",
       "    <tr>\n",
       "      <th>2</th>\n",
       "      <td>0.000745</td>\n",
       "      <td>0.0</td>\n",
       "      <td>7.07</td>\n",
       "      <td>0.0</td>\n",
       "      <td>0.469</td>\n",
       "      <td>7.185</td>\n",
       "      <td>61.1</td>\n",
       "      <td>4.9671</td>\n",
       "      <td>2.0</td>\n",
       "      <td>242.0</td>\n",
       "      <td>...</td>\n",
       "      <td>49.9849</td>\n",
       "      <td>0.219961</td>\n",
       "      <td>51.624225</td>\n",
       "      <td>24.672082</td>\n",
       "      <td>4.0</td>\n",
       "      <td>58564.0</td>\n",
       "      <td>316.84</td>\n",
       "      <td>154315.4089</td>\n",
       "      <td>16.2409</td>\n",
       "      <td>0.0</td>\n",
       "    </tr>\n",
       "    <tr>\n",
       "      <th>3</th>\n",
       "      <td>0.001048</td>\n",
       "      <td>0.0</td>\n",
       "      <td>2.18</td>\n",
       "      <td>0.0</td>\n",
       "      <td>0.458</td>\n",
       "      <td>6.998</td>\n",
       "      <td>45.8</td>\n",
       "      <td>6.0622</td>\n",
       "      <td>3.0</td>\n",
       "      <td>222.0</td>\n",
       "      <td>...</td>\n",
       "      <td>4.7524</td>\n",
       "      <td>0.209764</td>\n",
       "      <td>48.972004</td>\n",
       "      <td>36.750269</td>\n",
       "      <td>9.0</td>\n",
       "      <td>49284.0</td>\n",
       "      <td>349.69</td>\n",
       "      <td>155732.8369</td>\n",
       "      <td>8.6436</td>\n",
       "      <td>0.0</td>\n",
       "    </tr>\n",
       "    <tr>\n",
       "      <th>4</th>\n",
       "      <td>0.004768</td>\n",
       "      <td>0.0</td>\n",
       "      <td>2.18</td>\n",
       "      <td>0.0</td>\n",
       "      <td>0.458</td>\n",
       "      <td>7.147</td>\n",
       "      <td>54.2</td>\n",
       "      <td>6.0622</td>\n",
       "      <td>3.0</td>\n",
       "      <td>222.0</td>\n",
       "      <td>...</td>\n",
       "      <td>4.7524</td>\n",
       "      <td>0.209764</td>\n",
       "      <td>51.079609</td>\n",
       "      <td>36.750269</td>\n",
       "      <td>9.0</td>\n",
       "      <td>49284.0</td>\n",
       "      <td>349.69</td>\n",
       "      <td>157529.6100</td>\n",
       "      <td>28.4089</td>\n",
       "      <td>0.0</td>\n",
       "    </tr>\n",
       "  </tbody>\n",
       "</table>\n",
       "<p>5 rows × 25 columns</p>\n",
       "</div>"
      ],
      "text/plain": [
       "       CRIM    ZN  INDUS  CHAS    NOX     RM   AGE     DIS  RAD    TAX  ...  \\\n",
       "0  0.000040  18.0   2.31   0.0  0.538  6.575  65.2  4.0900  1.0  296.0  ...   \n",
       "1  0.000746   0.0   7.07   0.0  0.469  6.421  78.9  4.9671  2.0  242.0  ...   \n",
       "2  0.000745   0.0   7.07   0.0  0.469  7.185  61.1  4.9671  2.0  242.0  ...   \n",
       "3  0.001048   0.0   2.18   0.0  0.458  6.998  45.8  6.0622  3.0  222.0  ...   \n",
       "4  0.004768   0.0   2.18   0.0  0.458  7.147  54.2  6.0622  3.0  222.0  ...   \n",
       "\n",
       "   INDUS_INDUS   NOX_NOX      RM_RM    DIS_DIS  RAD_RAD  TAX_TAX  \\\n",
       "0       5.3361  0.289444  43.230625  16.728100      1.0  87616.0   \n",
       "1      49.9849  0.219961  41.229241  24.672082      4.0  58564.0   \n",
       "2      49.9849  0.219961  51.624225  24.672082      4.0  58564.0   \n",
       "3       4.7524  0.209764  48.972004  36.750269      9.0  49284.0   \n",
       "4       4.7524  0.209764  51.079609  36.750269      9.0  49284.0   \n",
       "\n",
       "   PTRATIO_PTRATIO          B_B  LSTAT_LSTAT  CHAS_CHAS  \n",
       "0           234.09  157529.6100      24.8004        0.0  \n",
       "1           316.84  157529.6100      83.5396        0.0  \n",
       "2           316.84  154315.4089      16.2409        0.0  \n",
       "3           349.69  155732.8369       8.6436        0.0  \n",
       "4           349.69  157529.6100      28.4089        0.0  \n",
       "\n",
       "[5 rows x 25 columns]"
      ]
     },
     "execution_count": 29,
     "metadata": {},
     "output_type": "execute_result"
    }
   ],
   "source": [
    "df = pd.DataFrame(x, columns=boston.feature_names)\n",
    "df[\"AGE_AGE\"] = df[\"AGE\"] ** 2\n",
    "df[\"CRIM\"] = df[\"CRIM\"] ** 2\n",
    "df[\"ZN_ZN\"] = df[\"ZN\"] ** 2\n",
    "df[\"INDUS_INDUS\"] = df[\"INDUS\"] ** 2\n",
    "df[\"NOX_NOX\"] = df[\"NOX\"] ** 2\n",
    "df[\"RM_RM\"] = df[\"RM\"] ** 2\n",
    "df[\"DIS_DIS\"] = df[\"DIS\"] ** 2\n",
    "df[\"RAD_RAD\"] = df[\"RAD\"] ** 2\n",
    "df[\"TAX_TAX\"] = df[\"TAX\"] ** 2\n",
    "df[\"PTRATIO_PTRATIO\"] = df[\"PTRATIO\"] ** 2\n",
    "df[\"B_B\"] = df[\"B\"] ** 2\n",
    "df[\"LSTAT_LSTAT\"] = df[\"LSTAT\"] ** 2\n",
    "df[\"CHAS_CHAS\"] = df[\"CHAS\"] ** 2\n",
    "df.head()"
   ]
  },
  {
   "cell_type": "code",
   "execution_count": 30,
   "metadata": {},
   "outputs": [],
   "source": [
    "x2 = df.values"
   ]
  },
  {
   "cell_type": "code",
   "execution_count": 31,
   "metadata": {},
   "outputs": [],
   "source": [
    "from sklearn import model_selection"
   ]
  },
  {
   "cell_type": "code",
   "execution_count": 32,
   "metadata": {},
   "outputs": [],
   "source": [
    "x_train, x_test, y_train, y_test = model_selection.train_test_split(x, y, random_state = 0)\n",
    "x2_train, x2_test, y2_train, y2_test = model_selection.train_test_split(x2, y, random_state = 0)"
   ]
  },
  {
   "cell_type": "code",
   "execution_count": 33,
   "metadata": {},
   "outputs": [],
   "source": [
    "from sklearn.linear_model import LinearRegression"
   ]
  },
  {
   "cell_type": "code",
   "execution_count": 34,
   "metadata": {},
   "outputs": [],
   "source": [
    "algo1 = LinearRegression()\n",
    "algo2 = LinearRegression()"
   ]
  },
  {
   "cell_type": "code",
   "execution_count": 35,
   "metadata": {},
   "outputs": [
    {
     "data": {
      "text/plain": [
       "LinearRegression()"
      ]
     },
     "execution_count": 35,
     "metadata": {},
     "output_type": "execute_result"
    }
   ],
   "source": [
    "algo1.fit(x_train, y_train)\n",
    "algo2.fit(x2_train, y2_train)"
   ]
  },
  {
   "cell_type": "code",
   "execution_count": 36,
   "metadata": {},
   "outputs": [],
   "source": [
    "y_pred = algo1.predict(x_test)\n",
    "y2_pred = algo2.predict(x2_test)"
   ]
  },
  {
   "cell_type": "code",
   "execution_count": 37,
   "metadata": {},
   "outputs": [
    {
     "name": "stdout",
     "output_type": "stream",
     "text": [
      "The traning score is:  0.7692000023453256\n",
      "The testing score is:  0.6384729694125997\n"
     ]
    }
   ],
   "source": [
    "train_score = algo1.score(x_train, y_train)\n",
    "test_score = algo1.score(x_test, y_test)\n",
    "print(\"The traning score is: \", train_score)\n",
    "print(\"The testing score is: \", test_score)"
   ]
  },
  {
   "cell_type": "code",
   "execution_count": 38,
   "metadata": {},
   "outputs": [
    {
     "name": "stdout",
     "output_type": "stream",
     "text": [
      "The traning score is:  0.8522895911177262\n",
      "The testing score is:  0.7148793005494659\n"
     ]
    }
   ],
   "source": [
    "train_score = algo2.score(x2_train, y2_train)\n",
    "test_score = algo2.score(x2_test, y2_test)\n",
    "print(\"The traning score is: \", train_score)\n",
    "print(\"The testing score is: \", test_score)"
   ]
  },
  {
   "cell_type": "code",
   "execution_count": 39,
   "metadata": {},
   "outputs": [
    {
     "data": {
      "text/plain": [
       "array([-1.67912316e-03, -9.65909270e-02, -4.54478426e-01,  1.25560182e+00,\n",
       "       -3.69873527e+01, -1.81121779e+01,  1.95866066e-02, -1.60499559e+00,\n",
       "        5.23134161e-01, -1.61216770e-02, -6.34782195e+00,  9.09262669e-03,\n",
       "       -1.34948294e+00, -2.05354508e-04,  1.07411718e-03,  1.90276919e-02,\n",
       "        1.32403969e+01,  1.65478512e+00,  5.13437619e-02, -8.81562752e-03,\n",
       "        2.84325830e-06,  1.57306168e-01, -1.74342457e-06,  2.31562803e-02,\n",
       "        1.25560182e+00])"
      ]
     },
     "execution_count": 39,
     "metadata": {},
     "output_type": "execute_result"
    }
   ],
   "source": [
    "algo2.coef_"
   ]
  },
  {
   "cell_type": "code",
   "execution_count": 40,
   "metadata": {},
   "outputs": [
    {
     "data": {
      "text/plain": [
       "167.89842434408513"
      ]
     },
     "execution_count": 40,
     "metadata": {},
     "output_type": "execute_result"
    }
   ],
   "source": [
    "algo2.intercept_"
   ]
  }
 ],
 "metadata": {
  "kernelspec": {
   "display_name": "Python 3",
   "language": "python",
   "name": "python3"
  },
  "language_info": {
   "codemirror_mode": {
    "name": "ipython",
    "version": 3
   },
   "file_extension": ".py",
   "mimetype": "text/x-python",
   "name": "python",
   "nbconvert_exporter": "python",
   "pygments_lexer": "ipython3",
   "version": "3.8.5"
  }
 },
 "nbformat": 4,
 "nbformat_minor": 4
}
