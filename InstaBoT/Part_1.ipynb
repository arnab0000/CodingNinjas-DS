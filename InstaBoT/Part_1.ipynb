{
 "cells": [
  {
   "cell_type": "code",
   "execution_count": 1,
   "metadata": {},
   "outputs": [
    {
     "name": "stdout",
     "output_type": "stream",
     "text": [
      "Requirement already satisfied: selenium in /usr/local/Cellar/jupyterlab/2.2.4/libexec/lib/python3.8/site-packages (3.141.0)\n",
      "Requirement already satisfied: urllib3 in /usr/local/Cellar/jupyterlab/2.2.4/libexec/lib/python3.8/site-packages (from selenium) (1.25.10)\n",
      "Note: you may need to restart the kernel to use updated packages.\n"
     ]
    }
   ],
   "source": [
    "pip install selenium"
   ]
  },
  {
   "cell_type": "code",
   "execution_count": 2,
   "metadata": {},
   "outputs": [],
   "source": [
    "from selenium import webdriver"
   ]
  },
  {
   "cell_type": "code",
   "execution_count": 3,
   "metadata": {},
   "outputs": [],
   "source": [
    "from bs4 import BeautifulSoup"
   ]
  },
  {
   "cell_type": "code",
   "execution_count": 109,
   "metadata": {},
   "outputs": [],
   "source": [
    "path = '/usr/local/bin/chromedriver'\n",
    "driver = webdriver.Chrome(executable_path = path)"
   ]
  },
  {
   "cell_type": "code",
   "execution_count": 110,
   "metadata": {},
   "outputs": [],
   "source": [
    "driver.get('https://www.instagram.com/')"
   ]
  },
  {
   "cell_type": "code",
   "execution_count": 111,
   "metadata": {},
   "outputs": [],
   "source": [
    "#part_1\n",
    "user_name = driver.find_elements_by_xpath('//div[@class = \"-MzZI\"]/div/label//input')\n",
    "user_name[0].send_keys('arnab.cool.banerjee@gmail.com')\n",
    "user_name[1].send_keys('Papajojan@123')"
   ]
  },
  {
   "cell_type": "code",
   "execution_count": 112,
   "metadata": {},
   "outputs": [],
   "source": [
    "log_in_button = driver.find_elements_by_tag_name(\"button\")\n",
    "log_in_button[1].click()"
   ]
  },
  {
   "cell_type": "code",
   "execution_count": 113,
   "metadata": {},
   "outputs": [],
   "source": [
    "#part_2\n",
    "search = driver.find_element_by_xpath('//div[@class=\"LWmhU _0aCwM\"]/input')\n",
    "search.send_keys('food')"
   ]
  },
  {
   "cell_type": "code",
   "execution_count": 114,
   "metadata": {},
   "outputs": [
    {
     "name": "stdout",
     "output_type": "stream",
     "text": [
      "food.insta\n",
      "foodmy.bae\n",
      "food_castaway_inn\n",
      "foodie._.queens\n",
      "yourfoodlab\n",
      "the_engineer_wala_foodie\n",
      "food\n",
      "tasty.treats_food\n",
      "foodnetwork\n",
      "the_foodandtravelfairytale\n",
      "tastethejoy1\n",
      "odia_food\n",
      "_soul_foodie\n",
      "love_food\n",
      "food_o_baby\n",
      "foodandchords\n",
      "foodiebong.artist123\n",
      "food.darzee\n",
      "buzzfeedfood\n",
      "foodie_delights_by_mala\n",
      "food_lunatic\n",
      "foodie_soul19\n",
      "mission.food9\n",
      "foodpepin\n",
      "the_food_and_the_city\n",
      "food.plustravel\n",
      "delhifoodwalks\n",
      "_crazyy.cravings\n",
      "foodies_of_bhubaneswar\n",
      "food_love_foodie\n",
      "_.foodistan_\n",
      "binge_foood\n",
      "foodfindo\n",
      "life_with_foodies\n",
      "food_for_life88\n",
      "foodmaniacindia\n",
      "netflixfood\n",
      "ndtv_food\n",
      "foody_moody44\n",
      "food.hangovers\n",
      "bongeats\n",
      "foodaholic_24\n",
      "foodandwinetales\n",
      "foodzo.in\n",
      "foodfoodhotahai\n",
      "food_ask_me\n",
      "food_magazines\n",
      "foodytops\n",
      "_.foodpicasso._\n",
      "the_art_of_comfort_eating\n",
      "indianfood_lovers\n",
      "foodprowl\n",
      "foodpalette__\n",
      "foodie0119\n"
     ]
    }
   ],
   "source": [
    "food_names = driver.find_elements_by_xpath('//div[@class=\"fuqBx\"]/a/div/div[2]/div/span')\n",
    "for i in food_names:\n",
    "    print(i.get_attribute('innerHTML').strip())"
   ]
  },
  {
   "cell_type": "code",
   "execution_count": 115,
   "metadata": {},
   "outputs": [],
   "source": [
    "#part_3\n",
    "search.clear()"
   ]
  },
  {
   "cell_type": "code",
   "execution_count": 116,
   "metadata": {},
   "outputs": [],
   "source": [
    "search.send_keys(\"So Delhi\")"
   ]
  },
  {
   "cell_type": "code",
   "execution_count": 117,
   "metadata": {},
   "outputs": [],
   "source": [
    "so_delhi = driver.find_element_by_xpath('//div[@class=\"fuqBx\"]/a')\n",
    "so_delhi.click()"
   ]
  },
  {
   "cell_type": "code",
   "execution_count": 118,
   "metadata": {},
   "outputs": [],
   "source": [
    "#part_4\n",
    "from selenium.common.exceptions import NoSuchElementException"
   ]
  },
  {
   "cell_type": "code",
   "execution_count": 120,
   "metadata": {},
   "outputs": [
    {
     "name": "stdout",
     "output_type": "stream",
     "text": [
      "Already Followed\n"
     ]
    }
   ],
   "source": [
    "#part_4_following\n",
    "follow_button_soDelhi = driver.find_element_by_xpath(\"//span[@class='vBF20 _1OSdk']\")\n",
    "try:\n",
    "    driver.find_element_by_xpath('//div[@class=\"_862NM\"]/div/button')\n",
    "    print(\"Already Followed\")\n",
    "except NoSuchElementException:\n",
    "    follow_button_soDelhi.click()"
   ]
  },
  {
   "cell_type": "code",
   "execution_count": 122,
   "metadata": {},
   "outputs": [
    {
     "name": "stdout",
     "output_type": "stream",
     "text": [
      "Already Unfollowed\n"
     ]
    }
   ],
   "source": [
    "#part_4_unfollow\n",
    "try:\n",
    "    driver.find_element_by_xpath('//div[@class=\"_862NM\"]/div/button')\n",
    "    x = driver.find_element_by_xpath(\"//span[@class='vBF20 _1OSdk']\")\n",
    "    x.click()\n",
    "    y = driver.find_element_by_xpath('//div[@class=\"mt3GC\"]/button')\n",
    "    y.click()\n",
    "except NoSuchElementException:\n",
    "    print(\"Already Unfollowed\")"
   ]
  },
  {
   "cell_type": "code",
   "execution_count": 131,
   "metadata": {},
   "outputs": [],
   "source": [
    "#part_5\n",
    "#part_5_searching dilsefoodie\n",
    "search = driver.find_element_by_xpath(\"//div[@class = 'LWmhU _0aCwM']/input\")\n",
    "search.clear()\n",
    "search.send_keys(\"dilsefoodie\")\n",
    "dil_se_foodie = driver.find_element_by_xpath('//div[@class=\"fuqBx\"]/a')\n",
    "dil_se_foodie.click()"
   ]
  }
 ],
 "metadata": {
  "kernelspec": {
   "display_name": "Python 3",
   "language": "python",
   "name": "python3"
  },
  "language_info": {
   "codemirror_mode": {
    "name": "ipython",
    "version": 3
   },
   "file_extension": ".py",
   "mimetype": "text/x-python",
   "name": "python",
   "nbconvert_exporter": "python",
   "pygments_lexer": "ipython3",
   "version": "3.8.5"
  }
 },
 "nbformat": 4,
 "nbformat_minor": 4
}
