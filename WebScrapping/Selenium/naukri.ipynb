{
 "cells": [
  {
   "cell_type": "code",
   "execution_count": 8,
   "metadata": {},
   "outputs": [],
   "source": [
    "from selenium import webdriver\n",
    "from bs4 import BeautifulSoup\n",
    "from selenium.webdriver.common.keys import Keys\n",
    "import re\n",
    "import pandas as pd\n",
    "import numpy as np"
   ]
  },
  {
   "cell_type": "code",
   "execution_count": 9,
   "metadata": {},
   "outputs": [],
   "source": [
    "path = '/usr/local/bin/chromedriver'\n",
    "driver = webdriver.Chrome(executable_path = path)"
   ]
  },
  {
   "cell_type": "code",
   "execution_count": 10,
   "metadata": {},
   "outputs": [],
   "source": [
    "driver.get('https://www.naukri.com')"
   ]
  },
  {
   "cell_type": "code",
   "execution_count": 12,
   "metadata": {},
   "outputs": [],
   "source": [
    "input_field = driver.find_element_by_name('keyword')\n",
    "input_field.send_keys('Data Scientist')"
   ]
  },
  {
   "cell_type": "code",
   "execution_count": 13,
   "metadata": {},
   "outputs": [],
   "source": [
    "input_field.send_keys(Keys.RETURN)"
   ]
  },
  {
   "cell_type": "code",
   "execution_count": 40,
   "metadata": {},
   "outputs": [
    {
     "name": "stdout",
     "output_type": "stream",
     "text": [
      "None\n",
      "3-7 Yrs\n",
      "None\n",
      "3-7 Yrs\n",
      "None\n",
      "3-7 Yrs\n",
      "None\n",
      "3-7 Yrs\n",
      "None\n",
      "3-7 Yrs\n",
      "None\n",
      "3-7 Yrs\n",
      "None\n",
      "3-7 Yrs\n",
      "None\n",
      "3-7 Yrs\n",
      "None\n",
      "3-7 Yrs\n",
      "None\n",
      "3-7 Yrs\n",
      "None\n",
      "3-7 Yrs\n",
      "None\n",
      "3-7 Yrs\n",
      "None\n",
      "3-7 Yrs\n",
      "None\n",
      "3-7 Yrs\n",
      "None\n",
      "3-7 Yrs\n",
      "None\n",
      "3-7 Yrs\n",
      "None\n",
      "3-7 Yrs\n",
      "None\n",
      "3-7 Yrs\n",
      "None\n",
      "3-7 Yrs\n",
      "None\n",
      "3-7 Yrs\n"
     ]
    }
   ],
   "source": [
    "dataframe = []\n",
    "html_data = driver.page_source\n",
    "soup = BeautifulSoup(html_data, 'html.parser')\n",
    "jobs = soup.find_all(class_='jobTuple bgWhite br4 mb-8')\n",
    "for job in jobs:\n",
    "    exp_list = job.ul.contents\n",
    "    "
   ]
  }
 ],
 "metadata": {
  "kernelspec": {
   "display_name": "Python 3",
   "language": "python",
   "name": "python3"
  },
  "language_info": {
   "codemirror_mode": {
    "name": "ipython",
    "version": 3
   },
   "file_extension": ".py",
   "mimetype": "text/x-python",
   "name": "python",
   "nbconvert_exporter": "python",
   "pygments_lexer": "ipython3",
   "version": "3.8.5"
  }
 },
 "nbformat": 4,
 "nbformat_minor": 4
}
